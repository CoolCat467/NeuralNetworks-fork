{
 "cells": [
  {
   "cell_type": "code",
   "execution_count": 1,
   "metadata": {},
   "outputs": [],
   "source": [
    "import numpy as np\n",
    "from keras.models import Sequential\n",
    "from keras.layers import Conv2D, MaxPooling2D, Flatten, Dense\n",
    "from keras.datasets import mnist\n",
    "from keras.utils import to_categorical"
   ]
  },
  {
   "cell_type": "code",
   "execution_count": 2,
   "metadata": {},
   "outputs": [],
   "source": [
    "class CNNModel:\n",
    "    def __init__(self):\n",
    "        self.model = None\n",
    "\n",
    "    def build_model(self, input_shape, num_classes):\n",
    "        self.model = Sequential()\n",
    "        self.model.add(Conv2D(32, (3, 3), activation=\"relu\", input_shape=input_shape))\n",
    "        self.model.add(MaxPooling2D((2, 2)))\n",
    "        self.model.add(Conv2D(64, (3, 3), activation=\"relu\"))\n",
    "        self.model.add(MaxPooling2D((2, 2)))\n",
    "        self.model.add(Flatten())\n",
    "        self.model.add(Dense(64, activation=\"relu\"))\n",
    "        self.model.add(Dense(num_classes, activation=\"softmax\"))\n",
    "        self.model.compile(\n",
    "            optimizer=\"adam\",\n",
    "            loss=\"categorical_crossentropy\",\n",
    "            metrics=[\"accuracy\"]\n",
    "        )\n",
    "\n",
    "    def load_data(self):\n",
    "        (X_train, y_train), (X_test, y_test) = mnist.load_data()\n",
    "        X_train = X_train.astype(\"float32\") / 255\n",
    "        X_test = X_test.astype(\"float32\") / 255\n",
    "        X_train = np.expand_dims(X_train, axis=-1)\n",
    "        X_test = np.expand_dims(X_test, axis=-1)\n",
    "        y_train = to_categorical(y_train, num_classes=10)\n",
    "        y_test = to_categorical(y_test, num_classes=10)\n",
    "        return X_train, y_train, X_test, y_test\n",
    "\n",
    "    def train(\n",
    "        self,\n",
    "        X_train, y_train,\n",
    "        X_test, y_test,\n",
    "        epochs, batch_size\n",
    "    ):\n",
    "        self.model.fit(\n",
    "            X_train,\n",
    "            y_train,\n",
    "            epochs=epochs,\n",
    "            batch_size=batch_size,\n",
    "            validation_data=(X_test, y_test),\n",
    "        )\n",
    "\n",
    "    def evaluate(self, X_test, y_test):\n",
    "        loss, accuracy = self.model.evaluate(X_test, y_test)\n",
    "        print(f\"Test Loss: {loss:.4f}\")\n",
    "        print(f\"Test Accuracy: {accuracy:.4f}\")\n",
    "\n",
    "    def predict(self, X):\n",
    "        return self.model.predict(X)\n"
   ]
  },
  {
   "cell_type": "code",
   "execution_count": 3,
   "metadata": {},
   "outputs": [],
   "source": [
    "cnn = CNNModel()"
   ]
  },
  {
   "cell_type": "code",
   "execution_count": 4,
   "metadata": {},
   "outputs": [
    {
     "name": "stdout",
     "output_type": "stream",
     "text": [
      "Downloading data from https://storage.googleapis.com/tensorflow/tf-keras-datasets/mnist.npz\n",
      "11490434/11490434 [==============================] - 1s 0us/step\n"
     ]
    }
   ],
   "source": [
    "cnn.build_model(input_shape=(28, 28, 1), num_classes=10)\n",
    "X_train, y_train, X_test, y_test = cnn.load_data()"
   ]
  },
  {
   "cell_type": "code",
   "execution_count": 5,
   "metadata": {},
   "outputs": [
    {
     "name": "stdout",
     "output_type": "stream",
     "text": [
      "Epoch 1/10\n",
      "469/469 [==============================] - 18s 36ms/step - loss: 0.2421 - accuracy: 0.9279 - val_loss: 0.0682 - val_accuracy: 0.9796\n",
      "Epoch 2/10\n",
      "469/469 [==============================] - 17s 36ms/step - loss: 0.0629 - accuracy: 0.9810 - val_loss: 0.0505 - val_accuracy: 0.9828\n",
      "Epoch 3/10\n",
      "469/469 [==============================] - 17s 36ms/step - loss: 0.0451 - accuracy: 0.9859 - val_loss: 0.0394 - val_accuracy: 0.9870\n",
      "Epoch 4/10\n",
      "469/469 [==============================] - 17s 36ms/step - loss: 0.0344 - accuracy: 0.9895 - val_loss: 0.0360 - val_accuracy: 0.9881\n",
      "Epoch 5/10\n",
      "469/469 [==============================] - 17s 36ms/step - loss: 0.0287 - accuracy: 0.9916 - val_loss: 0.0357 - val_accuracy: 0.9883\n",
      "Epoch 6/10\n",
      "469/469 [==============================] - 17s 36ms/step - loss: 0.0243 - accuracy: 0.9922 - val_loss: 0.0319 - val_accuracy: 0.9893\n",
      "Epoch 7/10\n",
      "469/469 [==============================] - 17s 36ms/step - loss: 0.0187 - accuracy: 0.9944 - val_loss: 0.0340 - val_accuracy: 0.9899\n",
      "Epoch 8/10\n",
      "469/469 [==============================] - 17s 37ms/step - loss: 0.0169 - accuracy: 0.9945 - val_loss: 0.0313 - val_accuracy: 0.9897\n",
      "Epoch 9/10\n",
      "469/469 [==============================] - 17s 37ms/step - loss: 0.0137 - accuracy: 0.9956 - val_loss: 0.0311 - val_accuracy: 0.9898\n",
      "Epoch 10/10\n",
      "469/469 [==============================] - 17s 37ms/step - loss: 0.0108 - accuracy: 0.9967 - val_loss: 0.0274 - val_accuracy: 0.9906\n"
     ]
    }
   ],
   "source": [
    "cnn.train(X_train, y_train, X_test, y_test, epochs=10, batch_size=128)\n"
   ]
  },
  {
   "cell_type": "code",
   "execution_count": 6,
   "metadata": {},
   "outputs": [
    {
     "name": "stdout",
     "output_type": "stream",
     "text": [
      "313/313 [==============================] - 2s 5ms/step - loss: 0.0274 - accuracy: 0.9906\n",
      "Test Loss: 0.0274\n",
      "Test Accuracy: 0.9906\n"
     ]
    }
   ],
   "source": [
    "cnn.evaluate(X_test, y_test)"
   ]
  }
 ],
 "metadata": {
  "kernelspec": {
   "display_name": "Python 3",
   "language": "python",
   "name": "python3"
  },
  "language_info": {
   "codemirror_mode": {
    "name": "ipython",
    "version": 3
   },
   "file_extension": ".py",
   "mimetype": "text/x-python",
   "name": "python",
   "nbconvert_exporter": "python",
   "pygments_lexer": "ipython3",
   "version": "3.11.3"
  },
  "orig_nbformat": 4
 },
 "nbformat": 4,
 "nbformat_minor": 2
}
